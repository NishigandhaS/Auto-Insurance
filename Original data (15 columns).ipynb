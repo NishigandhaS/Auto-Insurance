{
 "cells": [
  {
   "cell_type": "code",
   "execution_count": 1,
   "metadata": {},
   "outputs": [
    {
     "name": "stderr",
     "output_type": "stream",
     "text": [
      "C:\\Users\\Shweta  Sharma\\Anaconda\\lib\\site-packages\\outdated\\utils.py:18: OutdatedPackageWarning: The package pingouin is out of date. Your version is 0.3.3, the latest is 0.3.4.\n",
      "Set the environment variable OUTDATED_IGNORE=1 to disable these warnings.\n",
      "  **kwargs\n"
     ]
    }
   ],
   "source": [
    "import pandas as pd\n",
    "import numpy as np\n",
    "import matplotlib.pyplot as plt\n",
    "import seaborn as sns\n",
    "pd.set_option('display.max_rows', None)\n",
    "pd.set_option('display.max_columns', None)\n",
    "\n",
    "from scipy.stats import probplot\n",
    "from scipy.stats import zscore\n",
    "import scipy.stats as stats\n",
    "import math\n",
    "from scipy.stats import ttest_1samp\n",
    "from statsmodels.stats.multicomp import pairwise_tukeyhsd\n",
    "from scipy.stats import f_oneway, kruskal, mannwhitneyu , levene, ttest_ind\n",
    "from pingouin import welch_anova\n",
    "import statsmodels.api as sm\n",
    "import numpy as np\n",
    "import pandas as pd\n",
    "import matplotlib.pyplot as plt\n",
    "import seaborn as sns\n",
    "import scipy.stats as stats\n",
    "import statsmodels.api as sm\n",
    "import sklearn.preprocessing as sp\n",
    "import statsmodels.stats.outliers_influence as smof\n",
    "import statsmodels.stats.api as sms\n",
    "import statsmodels.tsa.api as smt\n",
    "from sklearn.model_selection import train_test_split\n",
    "from sklearn.linear_model import LinearRegression\n",
    "from sklearn.linear_model import Lasso, Ridge, LassoCV, RidgeCV\n",
    "from sklearn.metrics import r2_score, mean_squared_error\n",
    "from sklearn.feature_selection import RFE\n",
    "from sklearn.model_selection import KFold, cross_val_score, cross_val_predict\n",
    "import warnings\n",
    "warnings.filterwarnings('ignore')\n",
    "from sklearn.preprocessing import StandardScaler\n",
    "from sklearn.decomposition import PCA"
   ]
  },
  {
   "cell_type": "code",
   "execution_count": 2,
   "metadata": {},
   "outputs": [],
   "source": [
    "from matplotlib import rcParams, cycler\n",
    "rcParams['figure.figsize'] = 8,5\n",
    "rcParams['axes.spines.top'] = False\n",
    "rcParams['axes.spines.right'] = False\n",
    "rcParams['lines.linewidth'] = 1.5\n",
    "rcParams['axes.prop_cycle'] = cycler(color=['#424242'])\n",
    "rcParams['xtick.labelsize'] = 'x-large'\n",
    "rcParams['ytick.labelsize'] = 'x-large'"
   ]
  },
  {
   "cell_type": "code",
   "execution_count": 3,
   "metadata": {},
   "outputs": [
    {
     "data": {
      "text/html": [
       "<div>\n",
       "<style scoped>\n",
       "    .dataframe tbody tr th:only-of-type {\n",
       "        vertical-align: middle;\n",
       "    }\n",
       "\n",
       "    .dataframe tbody tr th {\n",
       "        vertical-align: top;\n",
       "    }\n",
       "\n",
       "    .dataframe thead th {\n",
       "        text-align: right;\n",
       "    }\n",
       "</style>\n",
       "<table border=\"1\" class=\"dataframe\">\n",
       "  <thead>\n",
       "    <tr style=\"text-align: right;\">\n",
       "      <th></th>\n",
       "      <th>Unnamed: 0</th>\n",
       "      <th>Coverage</th>\n",
       "      <th>Education</th>\n",
       "      <th>EmploymentStatus</th>\n",
       "      <th>Income</th>\n",
       "      <th>Marital Status</th>\n",
       "      <th>Months Since Last Claim</th>\n",
       "      <th>Months Since Policy Inception</th>\n",
       "      <th>Number of Open Complaints</th>\n",
       "      <th>Number of Policies</th>\n",
       "      <th>Renew Offer Type</th>\n",
       "      <th>Vehicle Class</th>\n",
       "      <th>Vehicle Size</th>\n",
       "      <th>Customer Lifetime Value_boxcox</th>\n",
       "      <th>Monthly Premium Auto_boxcox</th>\n",
       "      <th>Total Claim Amount_boxcox</th>\n",
       "    </tr>\n",
       "  </thead>\n",
       "  <tbody>\n",
       "    <tr>\n",
       "      <th>0</th>\n",
       "      <td>0</td>\n",
       "      <td>0</td>\n",
       "      <td>2</td>\n",
       "      <td>4</td>\n",
       "      <td>56274</td>\n",
       "      <td>0</td>\n",
       "      <td>32</td>\n",
       "      <td>5</td>\n",
       "      <td>0</td>\n",
       "      <td>1</td>\n",
       "      <td>3</td>\n",
       "      <td>1</td>\n",
       "      <td>1</td>\n",
       "      <td>2.703839</td>\n",
       "      <td>0.685347</td>\n",
       "      <td>33.035752</td>\n",
       "    </tr>\n",
       "    <tr>\n",
       "      <th>1</th>\n",
       "      <td>1</td>\n",
       "      <td>1</td>\n",
       "      <td>2</td>\n",
       "      <td>1</td>\n",
       "      <td>0</td>\n",
       "      <td>1</td>\n",
       "      <td>13</td>\n",
       "      <td>42</td>\n",
       "      <td>0</td>\n",
       "      <td>8</td>\n",
       "      <td>2</td>\n",
       "      <td>0</td>\n",
       "      <td>1</td>\n",
       "      <td>2.754926</td>\n",
       "      <td>0.685871</td>\n",
       "      <td>56.357614</td>\n",
       "    </tr>\n",
       "    <tr>\n",
       "      <th>2</th>\n",
       "      <td>2</td>\n",
       "      <td>2</td>\n",
       "      <td>2</td>\n",
       "      <td>4</td>\n",
       "      <td>48767</td>\n",
       "      <td>0</td>\n",
       "      <td>18</td>\n",
       "      <td>38</td>\n",
       "      <td>0</td>\n",
       "      <td>2</td>\n",
       "      <td>3</td>\n",
       "      <td>1</td>\n",
       "      <td>1</td>\n",
       "      <td>2.780772</td>\n",
       "      <td>0.686039</td>\n",
       "      <td>40.071789</td>\n",
       "    </tr>\n",
       "    <tr>\n",
       "      <th>3</th>\n",
       "      <td>3</td>\n",
       "      <td>0</td>\n",
       "      <td>2</td>\n",
       "      <td>1</td>\n",
       "      <td>0</td>\n",
       "      <td>0</td>\n",
       "      <td>18</td>\n",
       "      <td>65</td>\n",
       "      <td>0</td>\n",
       "      <td>7</td>\n",
       "      <td>3</td>\n",
       "      <td>2</td>\n",
       "      <td>1</td>\n",
       "      <td>2.759125</td>\n",
       "      <td>0.686018</td>\n",
       "      <td>38.763252</td>\n",
       "    </tr>\n",
       "    <tr>\n",
       "      <th>4</th>\n",
       "      <td>4</td>\n",
       "      <td>0</td>\n",
       "      <td>2</td>\n",
       "      <td>4</td>\n",
       "      <td>43836</td>\n",
       "      <td>1</td>\n",
       "      <td>12</td>\n",
       "      <td>44</td>\n",
       "      <td>0</td>\n",
       "      <td>1</td>\n",
       "      <td>3</td>\n",
       "      <td>0</td>\n",
       "      <td>1</td>\n",
       "      <td>2.704995</td>\n",
       "      <td>0.685461</td>\n",
       "      <td>19.560154</td>\n",
       "    </tr>\n",
       "  </tbody>\n",
       "</table>\n",
       "</div>"
      ],
      "text/plain": [
       "   Unnamed: 0  Coverage  Education  EmploymentStatus  Income  Marital Status  \\\n",
       "0           0         0          2                 4   56274               0   \n",
       "1           1         1          2                 1       0               1   \n",
       "2           2         2          2                 4   48767               0   \n",
       "3           3         0          2                 1       0               0   \n",
       "4           4         0          2                 4   43836               1   \n",
       "\n",
       "   Months Since Last Claim  Months Since Policy Inception  \\\n",
       "0                       32                              5   \n",
       "1                       13                             42   \n",
       "2                       18                             38   \n",
       "3                       18                             65   \n",
       "4                       12                             44   \n",
       "\n",
       "   Number of Open Complaints  Number of Policies  Renew Offer Type  \\\n",
       "0                          0                   1                 3   \n",
       "1                          0                   8                 2   \n",
       "2                          0                   2                 3   \n",
       "3                          0                   7                 3   \n",
       "4                          0                   1                 3   \n",
       "\n",
       "   Vehicle Class  Vehicle Size  Customer Lifetime Value_boxcox  \\\n",
       "0              1             1                        2.703839   \n",
       "1              0             1                        2.754926   \n",
       "2              1             1                        2.780772   \n",
       "3              2             1                        2.759125   \n",
       "4              0             1                        2.704995   \n",
       "\n",
       "   Monthly Premium Auto_boxcox  Total Claim Amount_boxcox  \n",
       "0                     0.685347                  33.035752  \n",
       "1                     0.685871                  56.357614  \n",
       "2                     0.686039                  40.071789  \n",
       "3                     0.686018                  38.763252  \n",
       "4                     0.685461                  19.560154  "
      ]
     },
     "execution_count": 3,
     "metadata": {},
     "output_type": "execute_result"
    }
   ],
   "source": [
    "df1=pd.read_csv('Insurance data for model building Final.csv')\n",
    "df1.head()"
   ]
  },
  {
   "cell_type": "code",
   "execution_count": 4,
   "metadata": {},
   "outputs": [],
   "source": [
    "X = df1.drop(['Customer Lifetime Value_boxcox', 'Unnamed: 0'], axis = 1)\n",
    "y = df1['Customer Lifetime Value_boxcox']"
   ]
  },
  {
   "cell_type": "code",
   "execution_count": 5,
   "metadata": {},
   "outputs": [],
   "source": [
    "X_train, X_test, y_train, y_test = train_test_split(X, y, test_size=0.30, random_state=0)"
   ]
  },
  {
   "cell_type": "code",
   "execution_count": 6,
   "metadata": {},
   "outputs": [],
   "source": [
    "LR=LinearRegression()"
   ]
  },
  {
   "cell_type": "code",
   "execution_count": 7,
   "metadata": {},
   "outputs": [],
   "source": [
    "LRm = LR.fit(X_train, y_train)\n",
    "y_pred_train = LRm.predict(X_train)\n",
    "y_pred_LR = LRm.predict(X_test)"
   ]
  },
  {
   "cell_type": "code",
   "execution_count": 8,
   "metadata": {},
   "outputs": [
    {
     "name": "stdout",
     "output_type": "stream",
     "text": [
      "LR original\n",
      "R2 Squared: 0.29844136325196224\n",
      "Root Mean Squared Error: 0.02526656013864376\n"
     ]
    }
   ],
   "source": [
    "print('LR original')\n",
    "print ( \"R2 Squared:\" , r2_score ( y_test , y_pred_LR ) )\n",
    "print ( \"Root Mean Squared Error:\" , np.sqrt ( mean_squared_error ( y_test , y_pred_LR ) ) )"
   ]
  },
  {
   "cell_type": "markdown",
   "metadata": {},
   "source": [
    "# Machine Learning Models"
   ]
  },
  {
   "cell_type": "code",
   "execution_count": 9,
   "metadata": {},
   "outputs": [],
   "source": [
    "from sklearn.neighbors import KNeighborsRegressor\n",
    "from sklearn.tree import DecisionTreeRegressor\n",
    "from sklearn.ensemble import RandomForestRegressor, AdaBoostRegressor, GradientBoostingRegressor\n",
    "from sklearn.ensemble import VotingRegressor\n",
    "from sklearn.model_selection import GridSearchCV\n",
    "import xgboost as xgb\n",
    "from xgboost import XGBRegressor"
   ]
  },
  {
   "cell_type": "code",
   "execution_count": 10,
   "metadata": {},
   "outputs": [],
   "source": [
    "DT=DecisionTreeRegressor(random_state=0)\n",
    "LR=LinearRegression()\n",
    "knn=KNeighborsRegressor()\n",
    "RF=RandomForestRegressor(random_state=0)\n",
    "ABR = AdaBoostRegressor(random_state=0)\n",
    "AB_RF = AdaBoostRegressor(base_estimator=RF, random_state=0)\n",
    "AB_DT = AdaBoostRegressor(random_state=0)\n",
    "GBoost=GradientBoostingRegressor(random_state=0)\n",
    "xgbr=XGBRegressor(random_state=0)"
   ]
  },
  {
   "cell_type": "code",
   "execution_count": null,
   "metadata": {},
   "outputs": [],
   "source": [
    "%%time\n",
    "## Best hyperparamerts for Decision Tree\n",
    "\n",
    "DT_params={'max_depth':np.arange(1,20),'min_samples_leaf':np.arange(2,10),'min_samples_split': np.arange(2,10)}\n",
    "GS_DT=GridSearchCV(DT,DT_params,cv=10,scoring='neg_mean_squared_error')\n",
    "GS_DT.fit(X,y)"
   ]
  },
  {
   "cell_type": "raw",
   "metadata": {},
   "source": [
    "GS_DT.best_params_"
   ]
  },
  {
   "cell_type": "raw",
   "metadata": {},
   "source": [
    "%%time\n",
    "## KNN\n",
    "knn=KNeighborsRegressor()\n",
    "knn_params={'n_neighbors':np.arange(3,25),'weights':['uniform','distance']}\n",
    "GS_knn=GridSearchCV(knn,knn_params,cv=10,scoring='neg_mean_squared_error')\n",
    "GS_knn.fit(X,y)\n"
   ]
  },
  {
   "cell_type": "raw",
   "metadata": {},
   "source": [
    "GS_knn.best_params_"
   ]
  },
  {
   "cell_type": "raw",
   "metadata": {},
   "source": [
    "%%time\n",
    "## GradientBoostingRegressor\n",
    "GB_params={'n_estimators':np.arange(1,60)}\n",
    "GS_GB=GridSearchCV(GBoost,GB_params,cv=10,scoring='neg_mean_squared_error')\n",
    "GS_GB.fit(X,y)\n",
    "GS_GB.best_params_"
   ]
  },
  {
   "cell_type": "raw",
   "metadata": {},
   "source": [
    "%%time\n",
    "xgbr=XGBRegressor()\n",
    "params={'objective':['reg:squarederror'],\n",
    "              'learning_rate' : [0.0001, 0.001, 0.01, 0.1, 0.2, 0.3], #so called `eta` value\n",
    "              'max_depth': [5, 6, 7],\n",
    "              'min_child_weight': [4],\n",
    "            'n_estimators': [100]}\n",
    "xgb_grid = GridSearchCV(xgbr,params,cv = 10)\n",
    "xgb_grid.fit(X,y)"
   ]
  },
  {
   "cell_type": "raw",
   "metadata": {},
   "source": [
    "xgb_grid.best_params_"
   ]
  },
  {
   "cell_type": "raw",
   "metadata": {},
   "source": [
    "%%time\n",
    "## Random Forest\n",
    "RF_params={'max_depth':np.arange(1,20),'min_samples_leaf':np.arange(2,10),'min_samples_split': np.arange(2,10)}\n",
    "GS_RF=GridSearchCV(RF,RF_params,cv=10,scoring='neg_mean_squared_error')\n",
    "GS_RF.fit(X,y)"
   ]
  },
  {
   "cell_type": "raw",
   "metadata": {},
   "source": [
    "%%time\n",
    "#Adaboost RF\n",
    "search_grid={'n_estimators': np.arange(1,200),'random_state':[0]}\n",
    "GS_ABRF=GridSearchCV(estimator=GS_RF,param_grid=search_grid,scoring='neg_mean_squared_error',cv=10)"
   ]
  },
  {
   "cell_type": "raw",
   "metadata": {},
   "source": [
    "%%time\n",
    "#Adaboost DT\n",
    "search_grid={'n_estimators': np.arange(1,200),'random_state':[0]}\n",
    "GS_ABR=GridSearchCV(estimator=GS_DT,param_grid=search_grid,scoring='neg_mean_squared_error',cv=10)"
   ]
  },
  {
   "cell_type": "code",
   "execution_count": 11,
   "metadata": {},
   "outputs": [],
   "source": [
    "DT=DecisionTreeRegressor(max_depth=8, min_samples_leaf= 8, min_samples_split=2)\n",
    "knn=KNeighborsRegressor(n_neighbors=23, weights='uniform')\n",
    "GBR=GradientBoostingRegressor(n_estimators=59,random_state=0)\n",
    "xgbr = XGBRegressor(learning_rate= 0.1, max_depth= 7, min_child_weight= 4,n_estimators= 100,objective= 'reg:squarederror')\n",
    "AB_DT = AdaBoostRegressor()\n",
    "RF = RandomForestRegressor(n_estimators = 20, max_depth=8, min_samples_leaf= 8, min_samples_split=2)\n",
    "AB_RF = AdaBoostRegressor()"
   ]
  },
  {
   "cell_type": "code",
   "execution_count": 12,
   "metadata": {},
   "outputs": [
    {
     "data": {
      "text/plain": [
       "Index(['Coverage', 'Education', 'EmploymentStatus', 'Income', 'Marital Status',\n",
       "       'Months Since Last Claim', 'Months Since Policy Inception',\n",
       "       'Number of Open Complaints', 'Number of Policies', 'Renew Offer Type',\n",
       "       'Vehicle Class', 'Vehicle Size', 'Monthly Premium Auto_boxcox',\n",
       "       'Total Claim Amount_boxcox'],\n",
       "      dtype='object')"
      ]
     },
     "execution_count": 12,
     "metadata": {},
     "output_type": "execute_result"
    }
   ],
   "source": [
    "X.columns"
   ]
  },
  {
   "cell_type": "code",
   "execution_count": 13,
   "metadata": {},
   "outputs": [],
   "source": [
    "X_train, X_test, y_train, y_test = train_test_split(X, y, test_size=0.30, random_state=0)"
   ]
  },
  {
   "cell_type": "code",
   "execution_count": null,
   "metadata": {},
   "outputs": [],
   "source": [
    "BaggingRegressor()"
   ]
  },
  {
   "cell_type": "code",
   "execution_count": 14,
   "metadata": {},
   "outputs": [
    {
     "data": {
      "text/plain": [
       "AdaBoostRegressor(base_estimator=None, learning_rate=1.0, loss='linear',\n",
       "                  n_estimators=50, random_state=None)"
      ]
     },
     "execution_count": 14,
     "metadata": {},
     "output_type": "execute_result"
    }
   ],
   "source": [
    "DT.fit(X_train,y_train)\n",
    "knn.fit(X_train,y_train)\n",
    "GBR.fit(X_train,y_train)\n",
    "xgbr.fit(X_train,y_train)\n",
    "AB_DT.fit(X_train,y_train)\n",
    "RF.fit(X_train,y_train)\n",
    "AB_RF.fit(X_train,y_train)"
   ]
  },
  {
   "cell_type": "code",
   "execution_count": 15,
   "metadata": {},
   "outputs": [
    {
     "name": "stdout",
     "output_type": "stream",
     "text": [
      "DT\n",
      "R2 Squared: 0.9372501334672602\n",
      "Root Mean Squared Error: 0.007556497366238492\n",
      "Mean Absolute Error: 0.063791283162595 \n",
      "\n",
      "knn\n",
      "R2 Squared: 0.028368850621687147\n",
      "Root Mean Squared Error: 0.02973478802150843\n",
      "Mean Absolute Error: 0.15492287283248116 \n",
      "\n",
      "GBR\n",
      "R2 Squared: 0.9420265815255844\n",
      "Root Mean Squared Error: 0.0072632097657689965\n",
      "Mean Absolute Error: 0.06316763176575527 \n",
      "\n",
      "xgbr\n",
      "R2 Squared: 0.9464286274715921\n",
      "Root Mean Squared Error: 0.006982010840757548\n",
      "Mean Absolute Error: 0.06109432267468925 \n",
      "\n",
      "AB_DT\n",
      "R2 Squared: 0.9070610474777507\n",
      "Root Mean Squared Error: 0.00919629763909556\n",
      "Mean Absolute Error: 0.08294801174420367 \n",
      "\n",
      "RF\n",
      "R2 Squared: 0.9422415496018751\n",
      "Root Mean Squared Error: 0.0072497311029717125\n",
      "Mean Absolute Error: 0.06243041378467633 \n",
      "\n",
      "AB_RF\n",
      "R2 Squared: 0.9102979868909901\n",
      "Root Mean Squared Error: 0.009034731011007033\n",
      "Mean Absolute Error: 0.08217602545345812 \n",
      "\n"
     ]
    }
   ],
   "source": [
    "from sklearn.metrics import r2_score , mean_squared_error , mean_absolute_error\n",
    "\n",
    "y_pred_DT = DT.predict(X_test)\n",
    "print('DT')\n",
    "print ( \"R2 Squared:\" , r2_score ( y_test , y_pred_DT ) )\n",
    "print ( \"Root Mean Squared Error:\" , np.sqrt ( mean_squared_error ( y_test , y_pred_DT ) ) )\n",
    "print ( \"Mean Absolute Error:\" , np.sqrt ( mean_absolute_error ( y_test , y_pred_DT ) ), '\\n' )\n",
    "\n",
    "\n",
    "y_pred_knn = knn.predict(X_test)\n",
    "print('knn')\n",
    "print ( \"R2 Squared:\" , r2_score ( y_test , y_pred_knn ) )\n",
    "print ( \"Root Mean Squared Error:\" , np.sqrt ( mean_squared_error ( y_test , y_pred_knn ) ) )\n",
    "print ( \"Mean Absolute Error:\" , np.sqrt ( mean_absolute_error ( y_test , y_pred_knn ) ), '\\n' )\n",
    "\n",
    "y_pred_GBR = GBR.predict(X_test)\n",
    "print('GBR')\n",
    "print ( \"R2 Squared:\" , r2_score ( y_test , y_pred_GBR ) )\n",
    "print ( \"Root Mean Squared Error:\" , np.sqrt ( mean_squared_error ( y_test , y_pred_GBR ) ) )\n",
    "print ( \"Mean Absolute Error:\" , np.sqrt ( mean_absolute_error ( y_test , y_pred_GBR ) ), '\\n' )\n",
    "\n",
    "y_pred_xgbr = xgbr.predict(X_test)\n",
    "print('xgbr')\n",
    "print ( \"R2 Squared:\" , r2_score ( y_test , y_pred_xgbr ) )\n",
    "print ( \"Root Mean Squared Error:\" , np.sqrt ( mean_squared_error ( y_test , y_pred_xgbr ) ) )\n",
    "print ( \"Mean Absolute Error:\" , np.sqrt ( mean_absolute_error ( y_test , y_pred_xgbr ) ), '\\n' )\n",
    "\n",
    "y_pred_ABDT = AB_DT.predict(X_test)\n",
    "print('AB_DT')\n",
    "print ( \"R2 Squared:\" , r2_score ( y_test , y_pred_ABDT ) )\n",
    "print ( \"Root Mean Squared Error:\" , np.sqrt ( mean_squared_error ( y_test , y_pred_ABDT ) ) )\n",
    "print ( \"Mean Absolute Error:\" , np.sqrt ( mean_absolute_error ( y_test , y_pred_ABDT ) ), '\\n' )\n",
    "\n",
    "y_pred_RF = RF.predict(X_test)\n",
    "print('RF')\n",
    "print ( \"R2 Squared:\" , r2_score ( y_test , y_pred_RF ) )\n",
    "print ( \"Root Mean Squared Error:\" , np.sqrt ( mean_squared_error ( y_test , y_pred_RF ) ) )\n",
    "print ( \"Mean Absolute Error:\" , np.sqrt ( mean_absolute_error ( y_test , y_pred_RF ) ), '\\n' )\n",
    "\n",
    "y_pred_ABRF = AB_RF.predict(X_test)\n",
    "print('AB_RF')\n",
    "print ( \"R2 Squared:\" , r2_score ( y_test , y_pred_ABRF ) )\n",
    "print ( \"Root Mean Squared Error:\" , np.sqrt ( mean_squared_error ( y_test , y_pred_ABRF ) ) )\n",
    "print ( \"Mean Absolute Error:\" , np.sqrt ( mean_absolute_error ( y_test , y_pred_ABRF ) ), '\\n' )"
   ]
  },
  {
   "cell_type": "code",
   "execution_count": 36,
   "metadata": {},
   "outputs": [
    {
     "ename": "NameError",
     "evalue": "name 'df' is not defined",
     "output_type": "error",
     "traceback": [
      "\u001b[1;31m---------------------------------------------------------------------------\u001b[0m",
      "\u001b[1;31mNameError\u001b[0m                                 Traceback (most recent call last)",
      "\u001b[1;32m<ipython-input-36-5fd0f10f4781>\u001b[0m in \u001b[0;36m<module>\u001b[1;34m\u001b[0m\n\u001b[0;32m      7\u001b[0m \u001b[0mpred\u001b[0m\u001b[1;33m[\u001b[0m\u001b[1;34m'Error %'\u001b[0m\u001b[1;33m]\u001b[0m \u001b[1;33m=\u001b[0m \u001b[1;36m100\u001b[0m\u001b[1;33m-\u001b[0m\u001b[0mpred\u001b[0m\u001b[1;33m[\u001b[0m\u001b[1;34m'Accuracy %'\u001b[0m\u001b[1;33m]\u001b[0m\u001b[1;33m\u001b[0m\u001b[1;33m\u001b[0m\u001b[0m\n\u001b[0;32m      8\u001b[0m \u001b[1;33m\u001b[0m\u001b[0m\n\u001b[1;32m----> 9\u001b[1;33m \u001b[0mpred\u001b[0m\u001b[1;33m[\u001b[0m\u001b[1;34m'Actual CLV'\u001b[0m\u001b[1;33m]\u001b[0m \u001b[1;33m=\u001b[0m \u001b[0mdf\u001b[0m\u001b[1;33m[\u001b[0m\u001b[1;34m'Customer Lifetime Value'\u001b[0m\u001b[1;33m]\u001b[0m\u001b[1;33m\u001b[0m\u001b[1;33m\u001b[0m\u001b[0m\n\u001b[0m\u001b[0;32m     10\u001b[0m \u001b[0mpred\u001b[0m\u001b[1;33m[\u001b[0m\u001b[1;34m'Predicted CLV'\u001b[0m\u001b[1;33m]\u001b[0m \u001b[1;33m=\u001b[0m \u001b[1;33m(\u001b[0m\u001b[0mpred\u001b[0m\u001b[1;33m[\u001b[0m\u001b[1;34m'RF'\u001b[0m\u001b[1;33m]\u001b[0m\u001b[1;33m)\u001b[0m\u001b[1;33m**\u001b[0m\u001b[1;36m2\u001b[0m\u001b[1;33m\u001b[0m\u001b[1;33m\u001b[0m\u001b[0m\n\u001b[0;32m     11\u001b[0m \u001b[0mpred\u001b[0m\u001b[1;33m[\u001b[0m\u001b[1;34m'Actual Accuracy %'\u001b[0m\u001b[1;33m]\u001b[0m \u001b[1;33m=\u001b[0m \u001b[1;33m(\u001b[0m\u001b[0mpred\u001b[0m\u001b[1;33m[\u001b[0m\u001b[1;34m'Predicted CLV'\u001b[0m\u001b[1;33m]\u001b[0m\u001b[1;33m/\u001b[0m\u001b[0mpred\u001b[0m\u001b[1;33m[\u001b[0m\u001b[1;34m'Actual CLV'\u001b[0m\u001b[1;33m]\u001b[0m\u001b[1;33m)\u001b[0m\u001b[1;33m*\u001b[0m\u001b[1;36m100\u001b[0m\u001b[1;33m\u001b[0m\u001b[1;33m\u001b[0m\u001b[0m\n",
      "\u001b[1;31mNameError\u001b[0m: name 'df' is not defined"
     ]
    }
   ],
   "source": [
    "pred = pd.DataFrame(y_test)\n",
    "pred['RF'] = y_pred_RF\n",
    "pred['Customer Lifetime Value_boxcox'] = pred['Customer Lifetime Value_boxcox']\n",
    "pred['RF'] = pred['RF']\n",
    "pred['boolean'] = pred['Customer Lifetime Value_boxcox']==pred['RF']\n",
    "pred['Accuracy %'] = (pred['RF']/pred['Customer Lifetime Value_boxcox'])*100\n",
    "pred['Error %'] = 100-pred['Accuracy %']\n",
    "\n",
    "pred['Actual CLV'] = df['Customer Lifetime Value']\n",
    "pred['Predicted CLV'] = (pred['RF'])**2\n",
    "pred['Actual Accuracy %'] = (pred['Predicted CLV']/pred['Actual CLV'])*100\n",
    "pred['Actual Error %'] = 100-pred['Actual Accuracy %']\n",
    "pred"
   ]
  },
  {
   "cell_type": "code",
   "execution_count": 33,
   "metadata": {},
   "outputs": [],
   "source": [
    "pred.to_csv('boxcox pred.csv')"
   ]
  },
  {
   "cell_type": "code",
   "execution_count": 34,
   "metadata": {},
   "outputs": [
    {
     "data": {
      "text/plain": [
       "False    2741\n",
       "Name: boolean, dtype: int64"
      ]
     },
     "execution_count": 34,
     "metadata": {},
     "output_type": "execute_result"
    }
   ],
   "source": [
    "pred['boolean'].value_counts()"
   ]
  },
  {
   "cell_type": "code",
   "execution_count": 35,
   "metadata": {},
   "outputs": [
    {
     "data": {
      "text/plain": [
       "<matplotlib.axes._subplots.AxesSubplot at 0xcb0b9c6278>"
      ]
     },
     "execution_count": 35,
     "metadata": {},
     "output_type": "execute_result"
    },
    {
     "data": {
      "image/png": "[encoded data removed]",
      "text/plain": [
       "<Figure size 576x360 with 1 Axes>"
      ]
     },
     "metadata": {
      "needs_background": "light"
     },
     "output_type": "display_data"
    }
   ],
   "source": [
    "sns.scatterplot(y_test, y_pred_RF)"
   ]
  },
  {
   "cell_type": "markdown",
   "metadata": {},
   "source": [
    "#### K-fold"
   ]
  },
  {
   "cell_type": "code",
   "execution_count": null,
   "metadata": {},
   "outputs": [
    {
     "name": "stdout",
     "output_type": "stream",
     "text": [
      "DecisionTreeRegressor: 0.063883 (0.000004)\n",
      "KNearestNeighbours: 0.156211 (0.000004)\n",
      "GradientBoostingRegressor: 0.063478 (0.000003)\n",
      "XG Boost: 0.061171 (0.000004)\n",
      "Adaboost DT: 0.083509 (0.000002)\n",
      "Random Forest: 0.062653 (0.000004)\n"
     ]
    }
   ],
   "source": [
    "from sklearn import model_selection\n",
    "\n",
    "models=[]\n",
    "models.append(('DecisionTreeRegressor',DT))\n",
    "models.append(('KNearestNeighbours',knn))\n",
    "models.append(('GradientBoostingRegressor',GBR))\n",
    "models.append(('XG Boost',xgbr))\n",
    "models.append(('Adaboost DT',AB_DT))\n",
    "models.append(('Random Forest',RF))\n",
    "models.append(('Adaboost RF',AB_RF))\n",
    "results=[]\n",
    "names=[]\n",
    "for name, model in models:\n",
    "   \n",
    "    cv_results = model_selection.cross_val_score(model, X, y, cv = 10, scoring = 'neg_mean_absolute_error')\n",
    "    results.append(np.sqrt(np.abs(cv_results)))\n",
    "    names.append(name)\n",
    "    print('%s: %f (%f)' % (name, np.mean(np.sqrt(np.abs(cv_results))), np.var(np.sqrt(np.abs(cv_results)), ddof = 1)))\n",
    "    \n",
    "fig = plt.figure(figsize=(15,5))\n",
    "fig.suptitle('Algorithm Comparision')\n",
    "ax = fig.add_subplot(111)\n",
    "plt.boxplot(results)\n",
    "ax.set_xticklabels(names)\n",
    "plt.show()"
   ]
  },
  {
   "cell_type": "code",
   "execution_count": null,
   "metadata": {},
   "outputs": [],
   "source": []
  },
  {
   "cell_type": "code",
   "execution_count": null,
   "metadata": {},
   "outputs": [],
   "source": []
  },
  {
   "cell_type": "code",
   "execution_count": null,
   "metadata": {},
   "outputs": [],
   "source": []
  },
  {
   "cell_type": "code",
   "execution_count": null,
   "metadata": {},
   "outputs": [],
   "source": []
  }
 ],
 "metadata": {
  "kernelspec": {
   "display_name": "Python 3",
   "language": "python",
   "name": "python3"
  },
  "language_info": {
   "codemirror_mode": {
    "name": "ipython",
    "version": 3
   },
   "file_extension": ".py",
   "mimetype": "text/x-python",
   "name": "python",
   "nbconvert_exporter": "python",
   "pygments_lexer": "ipython3",
   "version": "3.7.3"
  }
 },
 "nbformat": 4,
 "nbformat_minor": 2
}
